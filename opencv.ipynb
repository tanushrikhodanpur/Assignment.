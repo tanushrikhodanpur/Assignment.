{
 "cells": [
  {
   "cell_type": "code",
   "execution_count": 2,
   "metadata": {},
   "outputs": [
    {
     "ename": "error",
     "evalue": "OpenCV(4.8.0) D:\\a\\opencv-python\\opencv-python\\opencv\\modules\\highgui\\src\\window.cpp:971: error: (-215:Assertion failed) size.width>0 && size.height>0 in function 'cv::imshow'\n",
     "output_type": "error",
     "traceback": [
      "\u001b[1;31m---------------------------------------------------------------------------\u001b[0m",
      "\u001b[1;31merror\u001b[0m                                     Traceback (most recent call last)",
      "Cell \u001b[1;32mIn[2], line 3\u001b[0m\n\u001b[0;32m      1\u001b[0m \u001b[39mimport\u001b[39;00m \u001b[39mcv2\u001b[39;00m \u001b[39mas\u001b[39;00m \u001b[39mcv\u001b[39;00m\n\u001b[0;32m      2\u001b[0m img\u001b[39m=\u001b[39mcv\u001b[39m.\u001b[39mimread(\u001b[39m\"\u001b[39m\u001b[39mpath/to/image\u001b[39m\u001b[39m\"\u001b[39m)\n\u001b[1;32m----> 3\u001b[0m cv\u001b[39m.\u001b[39;49mimshow(\u001b[39m\"\u001b[39;49m\u001b[39mdisplay window\u001b[39;49m\u001b[39m\"\u001b[39;49m,img)\n\u001b[0;32m      4\u001b[0m k\u001b[39m=\u001b[39mcv\u001b[39m.\u001b[39mwaitkey(\u001b[39m0\u001b[39m)\u001b[39m#wait for\u001b[39;00m\n",
      "\u001b[1;31merror\u001b[0m: OpenCV(4.8.0) D:\\a\\opencv-python\\opencv-python\\opencv\\modules\\highgui\\src\\window.cpp:971: error: (-215:Assertion failed) size.width>0 && size.height>0 in function 'cv::imshow'\n"
     ]
    }
   ],
   "source": [
    "import cv2 as cv\n",
    "img=cv.imread(\"path/to/image\")\n",
    "cv.imshow(\"display window\",img)\n",
    "k=cv.waitkey(0)#wait for"
   ]
  },
  {
   "cell_type": "code",
   "execution_count": 3,
   "metadata": {},
   "outputs": [
    {
     "name": "stdout",
     "output_type": "stream",
     "text": [
      "Epoch 1/5\n",
      "300/300 [==============================] - 122s 390ms/step - loss: 0.4907 - accuracy: 0.8428 - val_loss: 0.0860 - val_accuracy: 0.9742\n",
      "Epoch 2/5\n",
      "300/300 [==============================] - 145s 482ms/step - loss: 0.1581 - accuracy: 0.9505 - val_loss: 0.0580 - val_accuracy: 0.9816\n",
      "Epoch 3/5\n",
      "300/300 [==============================] - 146s 487ms/step - loss: 0.1231 - accuracy: 0.9631 - val_loss: 0.0450 - val_accuracy: 0.9858\n",
      "Epoch 4/5\n",
      "300/300 [==============================] - 151s 503ms/step - loss: 0.1028 - accuracy: 0.9686 - val_loss: 0.0407 - val_accuracy: 0.9862\n",
      "Epoch 5/5\n",
      "300/300 [==============================] - 145s 482ms/step - loss: 0.0945 - accuracy: 0.9711 - val_loss: 0.0326 - val_accuracy: 0.9890\n"
     ]
    },
    {
     "data": {
      "text/plain": [
       "<keras.src.callbacks.History at 0x219042ed950>"
      ]
     },
     "execution_count": 3,
     "metadata": {},
     "output_type": "execute_result"
    }
   ],
   "source": [
    "# import the keras pakage\n",
    "import tensorflow as tf\n",
    "\n",
    "from tensorflow.keras.datasets import mnist\n",
    "# import th eanother pakages\n",
    "from keras.models import Sequential\n",
    "from keras.layers import Dense\n",
    "from keras.layers import Dropout\n",
    "from keras.layers import Flatten\n",
    "from keras.optimizers import Adam\n",
    "from keras.layers import Conv2D\n",
    "from keras.layers import MaxPooling2D\n",
    "from keras import utils\n",
    "import numpy as np\n",
    "\n",
    "\n",
    "\n",
    "\n",
    "# divide the  Data into (X_train ,Y_train,X_test,Y_test)\n",
    "(X_train, y_train), (X_test, y_test) = mnist.load_data()\n",
    "#reshape in form of (60000, 28, 28, 1)\n",
    "X_train = X_train.reshape(X_train.shape[0], X_train.shape[1], X_train.shape[2], 1).astype('float32')\n",
    "X_test = X_test.reshape(X_test.shape[0], X_test.shape[1], X_test.shape[2], 1).astype('float32')\n",
    "#normalize to get data in range of 0-1\n",
    "X_train/=255\n",
    "X_test/=255\n",
    "number_of_classes = 10\n",
    "y_train = utils.to_categorical(y_train, number_of_classes)\n",
    "y_test = utils.to_categorical(y_test, number_of_classes)\n",
    "\n",
    "\n",
    "\n",
    "model = Sequential()\n",
    "model.add(Conv2D(32, (5, 5), input_shape=(X_train.shape[1], X_train.shape[2], 1), activation='relu'))\n",
    "model.add(MaxPooling2D(pool_size=(2, 2)))\n",
    "model.add(Conv2D(32, (3, 3), activation='relu'))\n",
    "model.add(MaxPooling2D(pool_size=(2, 2)))\n",
    "model.add(Dropout(0.5))\n",
    "model.add(Flatten())\n",
    "model.add(Dense(128, activation='relu'))\n",
    "model.add(Dropout(0.5))\n",
    "model.add(Dense(number_of_classes, activation='softmax'))\n",
    "y_train.shape\n",
    "\n",
    "model.compile(loss='categorical_crossentropy', optimizer=Adam(), metrics=['accuracy'])\n",
    "\n",
    "model.fit(X_train, y_train, validation_data=(X_test, y_test), epochs=5,batch_size=200)"
   ]
  },
  {
   "cell_type": "code",
   "execution_count": 2,
   "metadata": {},
   "outputs": [
    {
     "name": "stdout",
     "output_type": "stream",
     "text": [
      "Epoch 1/5\n",
      "300/300 [==============================] - 121s 383ms/step - loss: 0.4842 - accuracy: 0.8444 - val_loss: 0.0828 - val_accuracy: 0.9755\n",
      "Epoch 2/5\n",
      "300/300 [==============================] - 120s 399ms/step - loss: 0.1571 - accuracy: 0.9526 - val_loss: 0.0555 - val_accuracy: 0.9826\n",
      "Epoch 3/5\n",
      "300/300 [==============================] - 121s 405ms/step - loss: 0.1177 - accuracy: 0.9643 - val_loss: 0.0437 - val_accuracy: 0.9866\n",
      "Epoch 4/5\n",
      "300/300 [==============================] - 121s 404ms/step - loss: 0.1006 - accuracy: 0.9697 - val_loss: 0.0360 - val_accuracy: 0.9879\n",
      "Epoch 5/5\n",
      "300/300 [==============================] - 121s 405ms/step - loss: 0.0880 - accuracy: 0.9736 - val_loss: 0.0335 - val_accuracy: 0.9886\n"
     ]
    },
    {
     "data": {
      "text/plain": [
       "<keras.src.callbacks.History at 0x21903d56b50>"
      ]
     },
     "execution_count": 2,
     "metadata": {},
     "output_type": "execute_result"
    }
   ],
   "source": [
    "# import the keras pakage\n",
    "import tensorflow as tf\n",
    "\n",
    "from tensorflow.keras.datasets import mnist\n",
    "# import th eanother pakages\n",
    "from keras.models import Sequential\n",
    "from keras.layers import Dense\n",
    "from keras.layers import Dropout\n",
    "from keras.layers import Flatten\n",
    "from keras.optimizers import Adam\n",
    "from keras.layers import Conv2D\n",
    "from keras.layers import MaxPooling2D\n",
    "from keras import utils\n",
    "import numpy as np\n",
    "\n",
    "\n",
    "\n",
    "\n",
    "# divide the  Data into (X_train ,Y_train,X_test,Y_test)\n",
    "(X_train, y_train), (X_test, y_test) = mnist.load_data()\n",
    "#reshape in form of (60000, 28, 28, 1)\n",
    "X_train = X_train.reshape(X_train.shape[0], X_train.shape[1], X_train.shape[2], 1).astype('float32')\n",
    "X_test = X_test.reshape(X_test.shape[0], X_test.shape[1], X_test.shape[2], 1).astype('float32')\n",
    "#normalize to get data in range of 0-1\n",
    "X_train/=255\n",
    "X_test/=255\n",
    "number_of_classes = 10\n",
    "y_train = utils.to_categorical(y_train, number_of_classes)\n",
    "y_test = utils.to_categorical(y_test, number_of_classes)\n",
    "\n",
    "\n",
    "\n",
    "model = Sequential()\n",
    "model.add(Conv2D(32, (5, 5), input_shape=(X_train.shape[1], X_train.shape[2], 1), activation='relu'))\n",
    "model.add(MaxPooling2D(pool_size=(2, 2)))\n",
    "model.add(Conv2D(32, (3, 3), activation='relu'))\n",
    "model.add(MaxPooling2D(pool_size=(2, 2)))\n",
    "model.add(Dropout(0.5))\n",
    "model.add(Flatten())\n",
    "model.add(Dense(128, activation='relu'))\n",
    "model.add(Dropout(0.5))\n",
    "model.add(Dense(number_of_classes, activation='softmax'))\n",
    "y_train.shape\n",
    "\n",
    "model.compile(loss='categorical_crossentropy', optimizer=Adam(), metrics=['accuracy'])\n",
    "\n",
    "model.fit(X_train, y_train, validation_data=(X_test, y_test), epochs=5,batch_size=200)"
   ]
  },
  {
   "cell_type": "code",
   "execution_count": 1,
   "metadata": {},
   "outputs": [
    {
     "name": "stdout",
     "output_type": "stream",
     "text": [
      "TensorFlow version: 2.13.0\n"
     ]
    }
   ],
   "source": [
    "import tensorflow as tf\n",
    "print(\"TensorFlow version:\", tf.__version__)"
   ]
  },
  {
   "cell_type": "code",
   "execution_count": 3,
   "metadata": {},
   "outputs": [
    {
     "data": {
      "text/plain": [
       "array([[1],\n",
       "       [2]])"
      ]
     },
     "execution_count": 3,
     "metadata": {},
     "output_type": "execute_result"
    }
   ],
   "source": [
    "import numpy as np\n",
    "x=np.array([1,2])\n",
    "x.shape\n",
    "y=np.expand_dims(x,axis=-1)\n",
    "y"
   ]
  },
  {
   "cell_type": "code",
   "execution_count": 1,
   "metadata": {},
   "outputs": [
    {
     "name": "stdout",
     "output_type": "stream",
     "text": [
      "3.7.2\n"
     ]
    }
   ],
   "source": [
    "import matplotlib\n",
    "print(matplotlib.__version__)"
   ]
  },
  {
   "cell_type": "code",
   "execution_count": 3,
   "metadata": {},
   "outputs": [
    {
     "name": "stdout",
     "output_type": "stream",
     "text": [
      "Epoch 1/10\n",
      "1875/1875 [==============================] - 159s 82ms/step - loss: 0.1417 - accuracy: 0.9575 - val_loss: 0.0454 - val_accuracy: 0.9868\n",
      "Epoch 2/10\n",
      "1875/1875 [==============================] - 153s 81ms/step - loss: 0.0467 - accuracy: 0.9855 - val_loss: 0.0318 - val_accuracy: 0.9899\n",
      "Epoch 3/10\n",
      "1875/1875 [==============================] - 170s 90ms/step - loss: 0.0339 - accuracy: 0.9895 - val_loss: 0.0320 - val_accuracy: 0.9903\n",
      "Epoch 4/10\n",
      "1875/1875 [==============================] - 165s 88ms/step - loss: 0.0258 - accuracy: 0.9918 - val_loss: 0.0358 - val_accuracy: 0.9884\n",
      "Epoch 5/10\n",
      "1875/1875 [==============================] - 182s 97ms/step - loss: 0.0201 - accuracy: 0.9938 - val_loss: 0.0320 - val_accuracy: 0.9901\n",
      "Epoch 6/10\n",
      "1875/1875 [==============================] - 190s 101ms/step - loss: 0.0167 - accuracy: 0.9944 - val_loss: 0.0400 - val_accuracy: 0.9876\n",
      "Epoch 7/10\n",
      "1875/1875 [==============================] - 181s 97ms/step - loss: 0.0149 - accuracy: 0.9954 - val_loss: 0.0251 - val_accuracy: 0.9917\n",
      "Epoch 8/10\n",
      "1875/1875 [==============================] - 171s 91ms/step - loss: 0.0109 - accuracy: 0.9964 - val_loss: 0.0359 - val_accuracy: 0.9910\n",
      "Epoch 9/10\n",
      "1875/1875 [==============================] - 170s 90ms/step - loss: 0.0099 - accuracy: 0.9966 - val_loss: 0.0366 - val_accuracy: 0.9909\n",
      "Epoch 10/10\n",
      "1875/1875 [==============================] - 165s 88ms/step - loss: 0.0095 - accuracy: 0.9969 - val_loss: 0.0323 - val_accuracy: 0.9918\n",
      "313/313 [==============================] - 10s 32ms/step - loss: 0.0323 - accuracy: 0.9918\n",
      "Test accuracy: 0.9918000102043152\n"
     ]
    },
    {
     "data": {
      "image/png": "[encoded data removed]",
      "text/plain": [
       "<Figure size 640x480 with 1 Axes>"
      ]
     },
     "metadata": {},
     "output_type": "display_data"
    }
   ],
   "source": [
    "import numpy as np\n",
    "import tensorflow as tf\n",
    "from tensorflow.keras import datasets, layers, models\n",
    "import matplotlib.pyplot as plt\n",
    "\n",
    "# Load the MNIST dataset\n",
    "(train_images, train_labels), (test_images, test_labels) = datasets.mnist.load_data()\n",
    "\n",
    "# Normalize the pixel values to range [0, 1]\n",
    "train_images, test_images = train_images / 255.0, test_images / 255.0\n",
    "\n",
    "# Add a channel dimension to the images (required for CNN input)\n",
    "train_images = np.expand_dims(train_images, axis=-1)\n",
    "test_images = np.expand_dims(test_images, axis=-1)\n",
    "\n",
    "# Convert labels to one-hot encoded vectors\n",
    "train_labels = tf.keras.utils.to_categorical(train_labels, num_classes=10)\n",
    "test_labels = tf.keras.utils.to_categorical(test_labels, num_classes=10)\n",
    "\n",
    "\n",
    "model = models.Sequential([\n",
    "    layers.Conv2D(32, (3, 3), activation='relu', input_shape=(28, 28, 1)),\n",
    "    layers.MaxPooling2D((2, 2)),\n",
    "    layers.Conv2D(64, (3, 3), activation='relu'),\n",
    "    layers.MaxPooling2D((2, 2)),\n",
    "    layers.Conv2D(64, (3, 3), activation='relu'),\n",
    "    layers.Flatten(),\n",
    "    layers.Dense(64, activation='relu'),\n",
    "    layers.Dense(10, activation='softmax')\n",
    "])\n",
    "\n",
    "\n",
    "model.compile(optimizer='adam',loss='categorical_crossentropy',metrics=['accuracy'])\n",
    "\n",
    "\n",
    "history = model.fit(train_images, train_labels, epochs=10, batch_size=32, validation_data=(test_images, test_labels))\n",
    "\n",
    "test_loss, test_acc = model.evaluate(test_images, test_labels)\n",
    "print(\"Test accuracy:\", test_acc)\n",
    "\n",
    "plt.plot(history.history['accuracy'], label='Training Accuracy')\n",
    "plt.plot(history.history['val_accuracy'], label='Validation Accuracy')\n",
    "plt.xlabel('Epoch')\n",
    "plt.ylabel('Accuracy')\n",
    "plt.legend(loc='lower right')\n",
    "plt.show()"
   ]
  }
 ],
 "metadata": {
  "kernelspec": {
   "display_name": "Python 3",
   "language": "python",
   "name": "python3"
  },
  "language_info": {
   "codemirror_mode": {
    "name": "ipython",
    "version": 3
   },
   "file_extension": ".py",
   "mimetype": "text/x-python",
   "name": "python",
   "nbconvert_exporter": "python",
   "pygments_lexer": "ipython3",
   "version": "3.11.4"
  },
  "orig_nbformat": 4
 },
 "nbformat": 4,
 "nbformat_minor": 2
}
